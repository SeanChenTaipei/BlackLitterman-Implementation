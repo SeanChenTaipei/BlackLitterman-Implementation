{
 "cells": [
  {
   "cell_type": "code",
   "execution_count": 1,
   "metadata": {
    "colab": {
     "base_uri": "https://localhost:8080/"
    },
    "id": "a93iWu7xhNRi",
    "outputId": "5895f493-4693-473d-aec2-23a024b6cf9c"
   },
   "outputs": [
    {
     "name": "stdout",
     "output_type": "stream",
     "text": [
      "3.7.9\n"
     ]
    }
   ],
   "source": [
    "import pandas as pd\n",
    "import numpy as np\n",
    "import matplotlib.pyplot as plt\n",
    "import datetime\n",
    "from blacklitterman import BlackLitterman ,Optimization,Optimization_MVO"
   ]
  },
  {
   "cell_type": "code",
   "execution_count": 2,
   "metadata": {
    "id": "Hg92MvoPhNRl"
   },
   "outputs": [],
   "source": [
    "## Paremeters \n",
    "start_date = datetime.date(2020,1,2) ##回測2020年\n",
    "period = 5 ##幾天換一次權重\n",
    "# stock_list = ['2303', '2885', '2603', '2884', '2883']\n",
    "stock_list = ['2330','2885','2603','2303','2881']"
   ]
  },
  {
   "cell_type": "code",
   "execution_count": 3,
   "metadata": {
    "id": "FXptkgDbhNRm"
   },
   "outputs": [],
   "source": [
    "df = pd.read_csv('./preprocessing/log_return.csv',parse_dates = ['date'],index_col = 'date')\n",
    "## 回測2020資料\n",
    "df_backtest = df[df.index.year == 2020]\n",
    "index = np.array([i for i in range(len(df_backtest.index))])\n",
    "change_weight_days = df_backtest.index[index[index%period == 0]]  ##要更換權重的天數"
   ]
  },
  {
   "cell_type": "markdown",
   "metadata": {
    "id": "nRED-W6IhNRn"
   },
   "source": [
    "### BlackLitterman with Constant View"
   ]
  },
  {
   "cell_type": "code",
   "execution_count": 4,
   "metadata": {
    "colab": {
     "base_uri": "https://localhost:8080/",
     "height": 317
    },
    "id": "0Y9jIlnvhNRn",
    "outputId": "2725ed3c-87a5-4092-f5f3-61ac9b601d20"
   },
   "outputs": [
    {
     "data": {
      "image/png": "[encoded data removed]",
      "text/plain": [
       "<Figure size 432x288 with 1 Axes>"
      ]
     },
     "metadata": {
      "needs_background": "light"
     },
     "output_type": "display_data"
    }
   ],
   "source": [
    "ret_port = [0]\n",
    "cw_ret = [0]\n",
    "weight_port = {}\n",
    "c_weight= {}\n",
    "for i,date in enumerate(change_weight_days):\n",
    "    BL = BlackLitterman(start_day = date,stock_list = stock_list)\n",
    "    df_test = df_backtest[BL.stock_list]\n",
    "    try:\n",
    "        df_period = df_test.loc[change_weight_days[i]:change_weight_days[i+1],:]\n",
    "        df_period = df_period.iloc[0:-1,:]\n",
    "    except:\n",
    "        df_period = df_test.loc[date:,:]\n",
    "    df_period = np.array(df_period)\n",
    "    ret,var = BL.posterior_dist()\n",
    "    OPT = Optimization(ret,var,stock_list)\n",
    "    weight = OPT.best_sharpe(print_process =False)\n",
    "    cw_weight = BL.utility_weight()\n",
    "    cw_weight = np.squeeze(np.exp(cw_weight)/np.sum(np.exp(cw_weight)),axis = 1)\n",
    "    returns = np.dot(df_period,weight)\n",
    "    cw_rets = np.dot(df_period,cw_weight)\n",
    "    ##紀錄weight\n",
    "    weight_port[date] = weight\n",
    "    c_weight[date] = cw_weight\n",
    "    for r in returns:\n",
    "        ret_port.append(ret_port[-1]+r)\n",
    "    for r in cw_rets:\n",
    "        cw_ret.append(cw_ret[-1]+r)\n",
    "plt.plot(df_backtest.index,ret_port[1:])\n",
    "plt.ylabel('%')\n",
    "plt.grid(True)"
   ]
  },
  {
   "cell_type": "code",
   "execution_count": 5,
   "metadata": {
    "colab": {
     "base_uri": "https://localhost:8080/"
    },
    "id": "rSiw_J3VhNRo",
    "outputId": "3fd6e921-ab15-435c-ccf9-d9bf34db077f",
    "scrolled": true
   },
   "outputs": [
    {
     "data": {
      "text/plain": [
       "{Timestamp('2020-01-02 00:00:00'): array([1., 0., 0., 0., 0.]),\n",
       " Timestamp('2020-01-09 00:00:00'): array([1., 0., 0., 0., 0.]),\n",
       " Timestamp('2020-01-16 00:00:00'): array([1., 0., 0., 0., 0.]),\n",
       " Timestamp('2020-02-03 00:00:00'): array([1., 0., 0., 0., 0.]),\n",
       " Timestamp('2020-02-10 00:00:00'): array([1., 0., 0., 0., 0.]),\n",
       " Timestamp('2020-02-17 00:00:00'): array([1., 0., 0., 0., 0.]),\n",
       " Timestamp('2020-02-24 00:00:00'): array([1., 0., 0., 0., 0.]),\n",
       " Timestamp('2020-03-03 00:00:00'): array([0.5812, 0.2055, 0.    , 0.0071, 0.2063]),\n",
       " Timestamp('2020-03-10 00:00:00'): array([0.3296, 0.2827, 0.0631, 0.0727, 0.252 ]),\n",
       " Timestamp('2020-03-17 00:00:00'): array([0., 0., 1., 0., 0.]),\n",
       " Timestamp('2020-03-24 00:00:00'): array([0.    , 0.    , 0.5788, 0.4212, 0.    ]),\n",
       " Timestamp('2020-03-31 00:00:00'): array([0., 0., 0., 1., 0.]),\n",
       " Timestamp('2020-04-09 00:00:00'): array([0., 0., 0., 1., 0.]),\n",
       " Timestamp('2020-04-16 00:00:00'): array([0., 0., 0., 1., 0.]),\n",
       " Timestamp('2020-04-23 00:00:00'): array([0., 0., 0., 1., 0.]),\n",
       " Timestamp('2020-04-30 00:00:00'): array([0., 0., 0., 1., 0.]),\n",
       " Timestamp('2020-05-08 00:00:00'): array([0., 0., 0., 1., 0.]),\n",
       " Timestamp('2020-05-15 00:00:00'): array([0., 0., 0., 1., 0.]),\n",
       " Timestamp('2020-05-22 00:00:00'): array([0., 0., 0., 1., 0.]),\n",
       " Timestamp('2020-05-29 00:00:00'): array([0., 0., 0., 1., 0.]),\n",
       " Timestamp('2020-06-05 00:00:00'): array([0.    , 0.    , 0.2553, 0.7447, 0.    ]),\n",
       " Timestamp('2020-06-12 00:00:00'): array([0.9628, 0.    , 0.    , 0.0372, 0.    ]),\n",
       " Timestamp('2020-06-19 00:00:00'): array([1., 0., 0., 0., 0.]),\n",
       " Timestamp('2020-06-30 00:00:00'): array([1., 0., 0., 0., 0.]),\n",
       " Timestamp('2020-07-07 00:00:00'): array([1., 0., 0., 0., 0.]),\n",
       " Timestamp('2020-07-14 00:00:00'): array([1., 0., 0., 0., 0.]),\n",
       " Timestamp('2020-07-21 00:00:00'): array([1., 0., 0., 0., 0.]),\n",
       " Timestamp('2020-07-28 00:00:00'): array([1., 0., 0., 0., 0.]),\n",
       " Timestamp('2020-08-04 00:00:00'): array([1., 0., 0., 0., 0.]),\n",
       " Timestamp('2020-08-11 00:00:00'): array([1., 0., 0., 0., 0.]),\n",
       " Timestamp('2020-08-18 00:00:00'): array([1., 0., 0., 0., 0.]),\n",
       " Timestamp('2020-08-25 00:00:00'): array([1., 0., 0., 0., 0.]),\n",
       " Timestamp('2020-09-01 00:00:00'): array([1., 0., 0., 0., 0.]),\n",
       " Timestamp('2020-09-08 00:00:00'): array([1., 0., 0., 0., 0.]),\n",
       " Timestamp('2020-09-15 00:00:00'): array([1., 0., 0., 0., 0.]),\n",
       " Timestamp('2020-09-22 00:00:00'): array([0.9947, 0.    , 0.0053, 0.    , 0.    ]),\n",
       " Timestamp('2020-09-29 00:00:00'): array([1., 0., 0., 0., 0.]),\n",
       " Timestamp('2020-10-08 00:00:00'): array([1., 0., 0., 0., 0.]),\n",
       " Timestamp('2020-10-16 00:00:00'): array([0.9887, 0.    , 0.0113, 0.    , 0.    ]),\n",
       " Timestamp('2020-10-23 00:00:00'): array([0.988, 0.   , 0.012, 0.   , 0.   ]),\n",
       " Timestamp('2020-10-30 00:00:00'): array([0.9923, 0.    , 0.0077, 0.    , 0.    ]),\n",
       " Timestamp('2020-11-06 00:00:00'): array([0.9915, 0.    , 0.0085, 0.    , 0.    ]),\n",
       " Timestamp('2020-11-13 00:00:00'): array([1., 0., 0., 0., 0.]),\n",
       " Timestamp('2020-11-20 00:00:00'): array([1., 0., 0., 0., 0.]),\n",
       " Timestamp('2020-11-27 00:00:00'): array([1., 0., 0., 0., 0.]),\n",
       " Timestamp('2020-12-04 00:00:00'): array([1., 0., 0., 0., 0.]),\n",
       " Timestamp('2020-12-11 00:00:00'): array([1., 0., 0., 0., 0.]),\n",
       " Timestamp('2020-12-18 00:00:00'): array([1., 0., 0., 0., 0.]),\n",
       " Timestamp('2020-12-25 00:00:00'): array([1., 0., 0., 0., 0.])}"
      ]
     },
     "execution_count": 5,
     "metadata": {},
     "output_type": "execute_result"
    }
   ],
   "source": [
    "weight_port"
   ]
  },
  {
   "cell_type": "code",
   "execution_count": 6,
   "metadata": {
    "colab": {
     "base_uri": "https://localhost:8080/"
    },
    "id": "B6fn3QgJ-OkP",
    "outputId": "2a479c58-361b-443c-aa17-998e007beac3"
   },
   "outputs": [
    {
     "data": {
      "text/plain": [
       "{Timestamp('2020-01-02 00:00:00'): array([0.30219694, 0.17577915, 0.17595767, 0.17902506, 0.16704118]),\n",
       " Timestamp('2020-01-09 00:00:00'): array([0.30538657, 0.17268315, 0.17601464, 0.17742268, 0.16849296]),\n",
       " Timestamp('2020-01-16 00:00:00'): array([0.30502932, 0.17185276, 0.17664656, 0.17726593, 0.16920542]),\n",
       " Timestamp('2020-02-03 00:00:00'): array([0.31210038, 0.1713356 , 0.17017061, 0.17341171, 0.1729817 ]),\n",
       " Timestamp('2020-02-10 00:00:00'): array([0.31649226, 0.17341027, 0.16759221, 0.17466464, 0.16784061]),\n",
       " Timestamp('2020-02-17 00:00:00'): array([0.31645221, 0.1759237 , 0.16761775, 0.17357339, 0.16643295]),\n",
       " Timestamp('2020-02-24 00:00:00'): array([0.31390408, 0.17702508, 0.16862548, 0.17189793, 0.16854743]),\n",
       " Timestamp('2020-03-03 00:00:00'): array([0.29435895, 0.19446188, 0.14759912, 0.1585211 , 0.20505895]),\n",
       " Timestamp('2020-03-10 00:00:00'): array([0.24688524, 0.23297273, 0.11488576, 0.13965659, 0.26559968]),\n",
       " Timestamp('2020-03-17 00:00:00'): array([0.33382228, 0.16572086, 0.17281572, 0.16539265, 0.16224848]),\n",
       " Timestamp('2020-03-24 00:00:00'): array([0.34237639, 0.16681782, 0.16796331, 0.16417346, 0.15866902]),\n",
       " Timestamp('2020-03-31 00:00:00'): array([0.34376676, 0.16677621, 0.16549798, 0.16271924, 0.16123981]),\n",
       " Timestamp('2020-04-09 00:00:00'): array([0.34096324, 0.16637139, 0.16598665, 0.1641726 , 0.16250612]),\n",
       " Timestamp('2020-04-16 00:00:00'): array([0.33567812, 0.16705677, 0.16801963, 0.16531093, 0.16393456]),\n",
       " Timestamp('2020-04-23 00:00:00'): array([0.33221131, 0.16883088, 0.16880388, 0.16585668, 0.16429725]),\n",
       " Timestamp('2020-04-30 00:00:00'): array([0.33046491, 0.16813019, 0.16874432, 0.16972259, 0.16293799]),\n",
       " Timestamp('2020-05-08 00:00:00'): array([0.33100139, 0.16764987, 0.16871149, 0.16923858, 0.16339867]),\n",
       " Timestamp('2020-05-15 00:00:00'): array([0.3317712 , 0.16981113, 0.16795629, 0.16602391, 0.16443746]),\n",
       " Timestamp('2020-05-22 00:00:00'): array([0.32957021, 0.16926999, 0.16956432, 0.16610871, 0.16548677]),\n",
       " Timestamp('2020-05-29 00:00:00'): array([0.32911205, 0.16841893, 0.16959827, 0.16708984, 0.16578091]),\n",
       " Timestamp('2020-06-05 00:00:00'): array([0.33344723, 0.17379657, 0.16892106, 0.15940168, 0.16443346]),\n",
       " Timestamp('2020-06-12 00:00:00'): array([0.32230412, 0.15765966, 0.16767005, 0.18406733, 0.16829885]),\n",
       " Timestamp('2020-06-19 00:00:00'): array([0.32154691, 0.15989123, 0.16784572, 0.18180329, 0.16891284]),\n",
       " Timestamp('2020-06-30 00:00:00'): array([0.3130559 , 0.16473046, 0.17179104, 0.17564615, 0.17477645]),\n",
       " Timestamp('2020-07-07 00:00:00'): array([0.30733387, 0.16752663, 0.17688795, 0.1757277 , 0.17252385]),\n",
       " Timestamp('2020-07-14 00:00:00'): array([0.30678884, 0.16832165, 0.17884941, 0.17416707, 0.17187303]),\n",
       " Timestamp('2020-07-21 00:00:00'): array([0.30610176, 0.16641075, 0.18120848, 0.17832945, 0.16794956]),\n",
       " Timestamp('2020-07-28 00:00:00'): array([0.30366785, 0.17230218, 0.17588847, 0.17156836, 0.17657313]),\n",
       " Timestamp('2020-08-04 00:00:00'): array([0.29801695, 0.17585339, 0.17950714, 0.17403926, 0.17258326]),\n",
       " Timestamp('2020-08-11 00:00:00'): array([0.29823356, 0.17567974, 0.18157558, 0.17360809, 0.17090304]),\n",
       " Timestamp('2020-08-18 00:00:00'): array([0.29658965, 0.17622999, 0.1817176 , 0.17269335, 0.17276941]),\n",
       " Timestamp('2020-08-25 00:00:00'): array([0.29792318, 0.17668005, 0.18249797, 0.17224437, 0.17065443]),\n",
       " Timestamp('2020-09-01 00:00:00'): array([0.29670972, 0.17829891, 0.18262933, 0.17225084, 0.17011121]),\n",
       " Timestamp('2020-09-08 00:00:00'): array([0.29550904, 0.17864711, 0.18344348, 0.17404845, 0.16835191]),\n",
       " Timestamp('2020-09-15 00:00:00'): array([0.29517834, 0.1785048 , 0.18371601, 0.17545343, 0.16714743]),\n",
       " Timestamp('2020-09-22 00:00:00'): array([0.29497172, 0.18007974, 0.18429586, 0.17541077, 0.16524191]),\n",
       " Timestamp('2020-09-29 00:00:00'): array([0.29701245, 0.17582254, 0.18495181, 0.1772211 , 0.16499209]),\n",
       " Timestamp('2020-10-08 00:00:00'): array([0.29700321, 0.17474333, 0.18504934, 0.17726699, 0.16593714]),\n",
       " Timestamp('2020-10-16 00:00:00'): array([0.29549441, 0.17604767, 0.18459851, 0.17667092, 0.16718849]),\n",
       " Timestamp('2020-10-23 00:00:00'): array([0.29528221, 0.17779145, 0.18393086, 0.17634527, 0.16665021]),\n",
       " Timestamp('2020-10-30 00:00:00'): array([0.29728937, 0.17833297, 0.18300632, 0.1751071 , 0.16626424]),\n",
       " Timestamp('2020-11-06 00:00:00'): array([0.30453057, 0.1714909 , 0.18246575, 0.17743006, 0.16408272]),\n",
       " Timestamp('2020-11-13 00:00:00'): array([0.30589375, 0.16839464, 0.18092083, 0.1765063 , 0.16828448]),\n",
       " Timestamp('2020-11-20 00:00:00'): array([0.30605454, 0.16646728, 0.1806174 , 0.17730018, 0.1695606 ]),\n",
       " Timestamp('2020-11-27 00:00:00'): array([0.30540282, 0.16631523, 0.18108002, 0.17849474, 0.16870719]),\n",
       " Timestamp('2020-12-04 00:00:00'): array([0.30338426, 0.16457558, 0.18176078, 0.18047611, 0.16980327]),\n",
       " Timestamp('2020-12-11 00:00:00'): array([0.3042903 , 0.16334579, 0.18146818, 0.18039032, 0.17050541]),\n",
       " Timestamp('2020-12-18 00:00:00'): array([0.3038301 , 0.16303322, 0.1814041 , 0.17948009, 0.17225249]),\n",
       " Timestamp('2020-12-25 00:00:00'): array([0.30510922, 0.16333175, 0.1796816 , 0.17814419, 0.17373324])}"
      ]
     },
     "execution_count": 6,
     "metadata": {},
     "output_type": "execute_result"
    }
   ],
   "source": [
    "c_weight"
   ]
  },
  {
   "cell_type": "markdown",
   "metadata": {
    "id": "meKaIWDzhNRo"
   },
   "source": [
    "###  Markowitz Using 50 days Lookback"
   ]
  },
  {
   "cell_type": "code",
   "execution_count": 7,
   "metadata": {
    "colab": {
     "base_uri": "https://localhost:8080/",
     "height": 265
    },
    "id": "yipcelEZhNRp",
    "outputId": "ed617696-a302-4ab7-b190-1ade679230e1"
   },
   "outputs": [
    {
     "data": {
      "image/png": "[encoded data removed]",
      "text/plain": [
       "<Figure size 432x288 with 1 Axes>"
      ]
     },
     "metadata": {
      "needs_background": "light"
     },
     "output_type": "display_data"
    }
   ],
   "source": [
    "mvo_ret_port = [0]\n",
    "mvo_weight_port = {}\n",
    "for i,date in enumerate(change_weight_days):\n",
    "    BL = BlackLitterman(start_day = date, stock_list = stock_list)\n",
    "    df_test = df_backtest[BL.stock_list]\n",
    "    try:\n",
    "        df_period = df_test.loc[change_weight_days[i]:change_weight_days[i+1],:]\n",
    "        df_period = df_period.iloc[0:-1,:]\n",
    "    except:\n",
    "        df_period = df_test.loc[date:,:]\n",
    "    df_period = np.array(df_period)\n",
    "    ret = BL.get_return().mean()\n",
    "    var = BL.get_return().cov()\n",
    "    OPT_MVO = Optimization_MVO(ret,var,stock_list)\n",
    "    weight = OPT_MVO.best_sharpe(print_process =False)\n",
    "    returns = np.dot(df_period,weight)\n",
    "    ##紀錄weight\n",
    "    mvo_weight_port[date] = weight\n",
    "    for r in returns:\n",
    "        mvo_ret_port.append(mvo_ret_port[-1]+r)\n",
    "plt.plot(df_backtest.index,mvo_ret_port[1:])\n",
    "plt.ylabel('%')\n",
    "plt.grid(True)"
   ]
  },
  {
   "cell_type": "code",
   "execution_count": 8,
   "metadata": {
    "colab": {
     "base_uri": "https://localhost:8080/"
    },
    "id": "h28zY110w_OL",
    "outputId": "19509777-75dc-42df-c130-b7fb0376edc8"
   },
   "outputs": [
    {
     "data": {
      "text/plain": [
       "['2330', '2885', '2603', '2303', '2881']"
      ]
     },
     "execution_count": 8,
     "metadata": {},
     "output_type": "execute_result"
    }
   ],
   "source": [
    "OPT_MVO.stock_list"
   ]
  },
  {
   "cell_type": "code",
   "execution_count": 9,
   "metadata": {
    "colab": {
     "base_uri": "https://localhost:8080/"
    },
    "id": "VNb52h4VhNRp",
    "outputId": "06e9c09a-913f-46b5-9db2-0a1432d62088",
    "scrolled": true
   },
   "outputs": [
    {
     "data": {
      "text/plain": [
       "{Timestamp('2020-01-02 00:00:00'): array([0.6421, 0.0951, 0.    , 0.2628, 0.    ]),\n",
       " Timestamp('2020-01-09 00:00:00'): array([0.6178, 0.0802, 0.    , 0.302 , 0.    ]),\n",
       " Timestamp('2020-01-16 00:00:00'): array([0.3604, 0.3993, 0.    , 0.2404, 0.    ]),\n",
       " Timestamp('2020-02-03 00:00:00'): array([1., 0., 0., 0., 0.]),\n",
       " Timestamp('2020-02-10 00:00:00'): array([0.1851, 0.1927, 0.    , 0.6222, 0.    ]),\n",
       " Timestamp('2020-02-17 00:00:00'): array([0.1985, 0.    , 0.    , 0.8015, 0.    ]),\n",
       " Timestamp('2020-02-24 00:00:00'): array([0.3463, 0.    , 0.    , 0.6537, 0.    ]),\n",
       " Timestamp('2020-03-03 00:00:00'): array([0., 0., 0., 1., 0.]),\n",
       " Timestamp('2020-03-10 00:00:00'): array([0.8704, 0.    , 0.    , 0.1296, 0.    ]),\n",
       " Timestamp('2020-03-17 00:00:00'): array([1., 0., 0., 0., 0.]),\n",
       " Timestamp('2020-03-24 00:00:00'): array([1., 0., 0., 0., 0.]),\n",
       " Timestamp('2020-03-31 00:00:00'): array([1., 0., 0., 0., 0.]),\n",
       " Timestamp('2020-04-09 00:00:00'): array([1., 0., 0., 0., 0.]),\n",
       " Timestamp('2020-04-16 00:00:00'): array([0., 1., 0., 0., 0.]),\n",
       " Timestamp('2020-04-23 00:00:00'): array([0., 0., 0., 1., 0.]),\n",
       " Timestamp('2020-04-30 00:00:00'): array([0., 0., 0., 1., 0.]),\n",
       " Timestamp('2020-05-08 00:00:00'): array([0., 0., 0., 1., 0.]),\n",
       " Timestamp('2020-05-15 00:00:00'): array([0., 0., 0., 1., 0.]),\n",
       " Timestamp('2020-05-22 00:00:00'): array([0., 0., 1., 0., 0.]),\n",
       " Timestamp('2020-05-29 00:00:00'): array([0., 0., 1., 0., 0.]),\n",
       " Timestamp('2020-06-05 00:00:00'): array([0., 0., 0., 1., 0.]),\n",
       " Timestamp('2020-06-12 00:00:00'): array([0.1644, 0.    , 0.    , 0.8356, 0.    ]),\n",
       " Timestamp('2020-06-19 00:00:00'): array([0.578 , 0.    , 0.    , 0.0996, 0.3225]),\n",
       " Timestamp('2020-06-30 00:00:00'): array([0.1694, 0.    , 0.    , 0.1602, 0.6704]),\n",
       " Timestamp('2020-07-07 00:00:00'): array([0.4278, 0.    , 0.0863, 0.1669, 0.3191]),\n",
       " Timestamp('2020-07-14 00:00:00'): array([0.5622, 0.0392, 0.0433, 0.138 , 0.2173]),\n",
       " Timestamp('2020-07-21 00:00:00'): array([0.7993, 0.    , 0.    , 0.2007, 0.    ]),\n",
       " Timestamp('2020-07-28 00:00:00'): array([0.6375, 0.    , 0.    , 0.3625, 0.    ]),\n",
       " Timestamp('2020-08-04 00:00:00'): array([0.431 , 0.2459, 0.    , 0.3231, 0.    ]),\n",
       " Timestamp('2020-08-11 00:00:00'): array([0.3762, 0.2245, 0.    , 0.3993, 0.    ]),\n",
       " Timestamp('2020-08-18 00:00:00'): array([0.327 , 0.2981, 0.1579, 0.217 , 0.    ]),\n",
       " Timestamp('2020-08-25 00:00:00'): array([0.3553, 0.2801, 0.2265, 0.1382, 0.    ]),\n",
       " Timestamp('2020-09-01 00:00:00'): array([0.3744, 0.2459, 0.2772, 0.1025, 0.    ]),\n",
       " Timestamp('2020-09-08 00:00:00'): array([0.3546, 0.1353, 0.3526, 0.1575, 0.    ]),\n",
       " Timestamp('2020-09-15 00:00:00'): array([0.48  , 0.0948, 0.2563, 0.1689, 0.    ]),\n",
       " Timestamp('2020-09-22 00:00:00'): array([0.4436, 0.    , 0.2894, 0.267 , 0.    ]),\n",
       " Timestamp('2020-09-29 00:00:00'): array([0.3676, 0.    , 0.2989, 0.3334, 0.    ]),\n",
       " Timestamp('2020-10-08 00:00:00'): array([0.3583, 0.    , 0.3183, 0.3235, 0.    ]),\n",
       " Timestamp('2020-10-16 00:00:00'): array([0.3241, 0.    , 0.3476, 0.3283, 0.    ]),\n",
       " Timestamp('2020-10-23 00:00:00'): array([0.222 , 0.    , 0.4098, 0.3682, 0.    ]),\n",
       " Timestamp('2020-10-30 00:00:00'): array([0.0425, 0.    , 0.4915, 0.466 , 0.    ]),\n",
       " Timestamp('2020-11-06 00:00:00'): array([0.0402, 0.    , 0.6465, 0.3133, 0.    ]),\n",
       " Timestamp('2020-11-13 00:00:00'): array([0.0731, 0.    , 0.4425, 0.1894, 0.295 ]),\n",
       " Timestamp('2020-11-20 00:00:00'): array([0.1553, 0.    , 0.4562, 0.1528, 0.2358]),\n",
       " Timestamp('2020-11-27 00:00:00'): array([0.057 , 0.    , 0.4496, 0.3465, 0.147 ]),\n",
       " Timestamp('2020-12-04 00:00:00'): array([0.1694, 0.    , 0.322 , 0.3855, 0.1231]),\n",
       " Timestamp('2020-12-11 00:00:00'): array([0.1333, 0.    , 0.2909, 0.383 , 0.1927]),\n",
       " Timestamp('2020-12-18 00:00:00'): array([0.2219, 0.    , 0.2193, 0.3313, 0.2274]),\n",
       " Timestamp('2020-12-25 00:00:00'): array([0.0032, 0.    , 0.4443, 0.4716, 0.081 ])}"
      ]
     },
     "execution_count": 9,
     "metadata": {},
     "output_type": "execute_result"
    }
   ],
   "source": [
    "mvo_weight_port"
   ]
  },
  {
   "cell_type": "markdown",
   "metadata": {
    "id": "6Yb5HicAF8zG"
   },
   "source": [
    "### 平均權重"
   ]
  },
  {
   "cell_type": "code",
   "execution_count": 10,
   "metadata": {
    "colab": {
     "base_uri": "https://localhost:8080/",
     "height": 265
    },
    "id": "TnqrzTTqFex9",
    "outputId": "7727e128-e195-4c4b-9576-c4ca0f578f65"
   },
   "outputs": [
    {
     "data": {
      "image/png": "[encoded data removed]",
      "text/plain": [
       "<Figure size 432x288 with 1 Axes>"
      ]
     },
     "metadata": {
      "needs_background": "light"
     },
     "output_type": "display_data"
    }
   ],
   "source": [
    "even_ret = [0]\n",
    "weight = np.array([0.2,0.2,0.2,0.2,0.2])\n",
    "for i,date in enumerate(change_weight_days):\n",
    "    BL = BlackLitterman(start_day = date,stock_list = stock_list)\n",
    "    df_test = df_backtest[BL.stock_list]\n",
    "    try:\n",
    "        df_period = df_test.loc[change_weight_days[i]:change_weight_days[i+1],:]\n",
    "        df_period = df_period.iloc[0:-1,:]\n",
    "    except:\n",
    "        df_period = df_test.loc[date:,:]\n",
    "    df_period = np.array(df_period)\n",
    "    returns = np.dot(df_period,weight)\n",
    "\n",
    "    for r in returns:\n",
    "        even_ret.append(even_ret[-1]+r)\n",
    "plt.plot(df_backtest.index,even_ret[1:])\n",
    "plt.ylabel('%')\n",
    "plt.grid(True)"
   ]
  },
  {
   "cell_type": "markdown",
   "metadata": {
    "id": "QxKRBIYghNRq"
   },
   "source": [
    "### BlackLitterman with LSTM-Based View"
   ]
  },
  {
   "cell_type": "code",
   "execution_count": 11,
   "metadata": {
    "colab": {
     "base_uri": "https://localhost:8080/"
    },
    "id": "s2AyUBXthNRq",
    "outputId": "e4c55ad3-4a4d-4db9-bc60-a29022828a17"
   },
   "outputs": [
    {
     "name": "stdout",
     "output_type": "stream",
     "text": [
      "--tf_version : 2.1.1\n",
      "[PhysicalDevice(name='/physical_device:GPU:0', device_type='GPU')]\n"
     ]
    }
   ],
   "source": [
    "import numpy as np\n",
    "import pandas as pd\n",
    "import tensorflow as tf\n",
    "from tensorflow import keras\n",
    "from tensorflow.keras import layers\n",
    "\n",
    "print(\"--tf_version :\" ,tf.__version__)\n",
    "print(tf.config.list_physical_devices('GPU'))"
   ]
  },
  {
   "cell_type": "code",
   "execution_count": 12,
   "metadata": {
    "id": "CyB2IC6AhNRr"
   },
   "outputs": [],
   "source": [
    "seq_len = 30\n",
    "feature = 10\n",
    "\n",
    "input1 = keras.Input(shape =(seq_len,feature),name = stock_list[0])\n",
    "input2 = keras.Input(shape =(seq_len,feature),name = stock_list[1])\n",
    "input3 = keras.Input(shape =(seq_len,feature),name = stock_list[2])\n",
    "input4 = keras.Input(shape =(seq_len,feature),name = stock_list[3])\n",
    "input5 = keras.Input(shape =(seq_len,feature),name = stock_list[4])\n",
    "\n",
    "out1 = layers.LSTM(32,return_sequences=True)(input1)\n",
    "out2 = layers.LSTM(32,return_sequences=True)(input2)\n",
    "out3 = layers.LSTM(32,return_sequences=True)(input3)\n",
    "out4 = layers.LSTM(32,return_sequences=True)(input4)\n",
    "out5 = layers.LSTM(32,return_sequences=True)(input5)\n",
    "\n",
    "out1 = layers.LSTM(64)(out1)\n",
    "out2 = layers.LSTM(64)(out2)\n",
    "out3 = layers.LSTM(64)(out3)\n",
    "out4 = layers.LSTM(64)(out4)\n",
    "out5 = layers.LSTM(64)(out5)\n",
    "\n",
    "concat = layers.concatenate([out1,out2,out3,out4,out5])\n",
    "d1 = layers.Dense(64)(concat)\n",
    "d2 = layers.Dense(5,activation = 'relu', name=\"result\")(d1)\n",
    "\n",
    "\n",
    "model = keras.Model(\n",
    "    inputs=[input1,input2,input3,input4,input5],\n",
    "    outputs=d2,\n",
    ")"
   ]
  },
  {
   "cell_type": "code",
   "execution_count": 13,
   "metadata": {
    "id": "e74puz8whNRr"
   },
   "outputs": [],
   "source": [
    "# model.load_weights('./stock_price_prediction/weight/best_weight.h5')\n",
    "model.load_weights('./stock_price_prediction/weight/best_weight.h5')"
   ]
  },
  {
   "cell_type": "code",
   "execution_count": 14,
   "metadata": {
    "id": "v8cbeNzPhNRs"
   },
   "outputs": [],
   "source": [
    "def normalize(train):\n",
    "    train_norm = train.apply(lambda x: (x - np.min(x)) / (np.max(x) - np.min(x)))\n",
    "    return train_norm\n",
    "def get_price_data():\n",
    "    data = {}\n",
    "    for name in stock_list:\n",
    "        df = pd.read_csv('./stock_price_prediction/data/'+'final_'+name+'.csv',parse_dates = ['date'],index_col = 'date')\n",
    "        df = df.loc['2019-01-02':'2020-12-31']\n",
    "        data[name] = df\n",
    "    return data,df.index"
   ]
  },
  {
   "cell_type": "code",
   "execution_count": 15,
   "metadata": {
    "id": "Ia9xLfbAhNRs"
   },
   "outputs": [],
   "source": [
    "def get_Q(date):\n",
    "    ##look back 30 days\n",
    "    data,date_index = get_price_data()\n",
    "    num = date_index.get_loc('%d-%d-%d'%(date.year,date.month,date.day))\n",
    "    test = {};scale = [];last_close = []\n",
    "    for name in stock_list:\n",
    "        df = data[name].iloc[num-30:num,:]\n",
    "        last_close.append(df['close'][-1])\n",
    "        scale.append([df['close'].max(),df['close'].min()])\n",
    "        df = normalize(df)\n",
    "        test[name] = np.array(df)[np.newaxis,:]\n",
    "    y = model.predict([test[stock_list[0]],test[stock_list[1]],\\\n",
    "                       test[stock_list[2]],test[stock_list[3]],test[stock_list[4]]])\n",
    "\n",
    "    y = np.squeeze(y,axis = 0)\n",
    "    for i,elt in enumerate(y):\n",
    "        diff = scale[i][0]-scale[i][1]\n",
    "        elt = elt*diff + scale[i][1]\n",
    "        y[i] = elt\n",
    "\n",
    "    y = np.log(y/np.array(last_close))\n",
    "    return np.expand_dims(y,axis = 1)"
   ]
  },
  {
   "cell_type": "code",
   "execution_count": 16,
   "metadata": {
    "colab": {
     "base_uri": "https://localhost:8080/"
    },
    "id": "JnRZjtmNjRi6",
    "outputId": "85ef0d98-424e-4bb8-c5a7-f928f4e4d8a1"
   },
   "outputs": [
    {
     "data": {
      "text/plain": [
       "array([[ 0.01118866],\n",
       "       [ 0.00304863],\n",
       "       [-0.0002074 ],\n",
       "       [ 0.00329935],\n",
       "       [ 0.00472652]])"
      ]
     },
     "execution_count": 16,
     "metadata": {},
     "output_type": "execute_result"
    }
   ],
   "source": [
    "get_Q(datetime.date(2020,1,2))"
   ]
  },
  {
   "cell_type": "code",
   "execution_count": 17,
   "metadata": {
    "colab": {
     "base_uri": "https://localhost:8080/",
     "height": 265
    },
    "id": "EPDNDl1lhNRt",
    "outputId": "f15bad07-75b8-4b45-c9ad-0cd460b51ca0"
   },
   "outputs": [
    {
     "data": {
      "image/png": "[encoded data removed]",
      "text/plain": [
       "<Figure size 432x288 with 1 Axes>"
      ]
     },
     "metadata": {
      "needs_background": "light"
     },
     "output_type": "display_data"
    }
   ],
   "source": [
    "lstm_ret_port = [0]\n",
    "lstm_weight_port = {}\n",
    "Q_list = {}\n",
    "for i,date in enumerate(change_weight_days):\n",
    "    Q = get_Q(date)\n",
    "    Q_list[date] = Q.tolist()\n",
    "    BL = BlackLitterman(TAU = 0.025,start_day = date,period = 1000,stock_list = stock_list,Q = Q)\n",
    "    df_test = df_backtest[BL.stock_list]\n",
    "    try:\n",
    "        df_period = df_test.loc[change_weight_days[i]:change_weight_days[i+1],:]\n",
    "        df_period = df_period.iloc[0:-1,:]\n",
    "    except:\n",
    "        df_period = df_test.loc[date:,:]\n",
    "    df_period = np.array(df_period)\n",
    "    ret,var = BL.posterior_dist()\n",
    "    ##### investors utility weight\n",
    "    weight = BL.utility_weight()\n",
    "    weight = np.squeeze(np.exp(weight)/np.sum(np.exp(weight)),axis = 1)\n",
    "    returns = np.dot(df_period,weight)\n",
    "    ##紀錄weight\n",
    "    lstm_weight_port[date] = weight\n",
    "    for r in returns:\n",
    "        lstm_ret_port.append(lstm_ret_port[-1]+r)\n",
    "plt.plot(df_backtest.index,lstm_ret_port[1:])\n",
    "plt.ylabel('%')\n",
    "plt.grid(True)"
   ]
  },
  {
   "cell_type": "code",
   "execution_count": 18,
   "metadata": {
    "colab": {
     "base_uri": "https://localhost:8080/"
    },
    "id": "IM9_PvXEmTDC",
    "outputId": "183b1bd5-bed6-4202-e391-e763fe72869d",
    "scrolled": true
   },
   "outputs": [
    {
     "data": {
      "text/plain": [
       "{Timestamp('2020-01-02 00:00:00'): array([0.30727168, 0.16742382, 0.17456775, 0.17596039, 0.17477636]),\n",
       " Timestamp('2020-01-09 00:00:00'): array([0.28531209, 0.1884499 , 0.16186989, 0.17869444, 0.18567368]),\n",
       " Timestamp('2020-01-16 00:00:00'): array([0.29851005, 0.1658826 , 0.16919137, 0.19123197, 0.175184  ]),\n",
       " Timestamp('2020-02-03 00:00:00'): array([0.30440501, 0.15663751, 0.1779945 , 0.1853306 , 0.17563238]),\n",
       " Timestamp('2020-02-10 00:00:00'): array([0.32371188, 0.15056697, 0.19561052, 0.15362194, 0.17648869]),\n",
       " Timestamp('2020-02-17 00:00:00'): array([0.29208766, 0.17555786, 0.19093982, 0.18742946, 0.1539852 ]),\n",
       " Timestamp('2020-02-24 00:00:00'): array([0.32299184, 0.14261343, 0.17929741, 0.19273513, 0.16236219]),\n",
       " Timestamp('2020-03-03 00:00:00'): array([0.30610461, 0.22190484, 0.14652003, 0.17412612, 0.1513444 ]),\n",
       " Timestamp('2020-03-10 00:00:00'): array([0.28561576, 0.21937901, 0.140702  , 0.17098844, 0.18331479]),\n",
       " Timestamp('2020-03-17 00:00:00'): array([0.25205495, 0.25359416, 0.11505735, 0.10736105, 0.27193248]),\n",
       " Timestamp('2020-03-24 00:00:00'): array([0.36385535, 0.4413355 , 0.08450735, 0.05651838, 0.05378342]),\n",
       " Timestamp('2020-03-31 00:00:00'): array([0.42450697, 0.10715311, 0.1877288 , 0.16588405, 0.11472708]),\n",
       " Timestamp('2020-04-09 00:00:00'): array([0.23405177, 0.12471728, 0.16463863, 0.17740842, 0.29918391]),\n",
       " Timestamp('2020-04-16 00:00:00'): array([0.38443426, 0.07904682, 0.20999779, 0.19361105, 0.13291008]),\n",
       " Timestamp('2020-04-23 00:00:00'): array([0.22387182, 0.19909889, 0.22651976, 0.15381228, 0.19669726]),\n",
       " Timestamp('2020-04-30 00:00:00'): array([0.332424  , 0.15888795, 0.14400995, 0.25680514, 0.10787295]),\n",
       " Timestamp('2020-05-08 00:00:00'): array([0.30048498, 0.18652164, 0.14896256, 0.19140915, 0.17262167]),\n",
       " Timestamp('2020-05-15 00:00:00'): array([0.29953808, 0.1722138 , 0.13270485, 0.1882767 , 0.20726657]),\n",
       " Timestamp('2020-05-22 00:00:00'): array([0.31543178, 0.22175982, 0.12867326, 0.21531633, 0.11881882]),\n",
       " Timestamp('2020-05-29 00:00:00'): array([0.32423407, 0.1649009 , 0.14489434, 0.1834487 , 0.182522  ]),\n",
       " Timestamp('2020-06-05 00:00:00'): array([0.32229368, 0.13944127, 0.16517983, 0.18671555, 0.18636968]),\n",
       " Timestamp('2020-06-12 00:00:00'): array([0.22379298, 0.12773765, 0.18372917, 0.24100439, 0.22373582]),\n",
       " Timestamp('2020-06-19 00:00:00'): array([0.27543973, 0.13190194, 0.16136   , 0.22387557, 0.20742276]),\n",
       " Timestamp('2020-06-30 00:00:00'): array([0.29584464, 0.17059522, 0.17815316, 0.17563267, 0.17977431]),\n",
       " Timestamp('2020-07-07 00:00:00'): array([0.26699417, 0.17369858, 0.19986912, 0.17696985, 0.18246827]),\n",
       " Timestamp('2020-07-14 00:00:00'): array([0.21953297, 0.15128499, 0.24168398, 0.16485179, 0.22264627]),\n",
       " Timestamp('2020-07-21 00:00:00'): array([0.23419803, 0.17863105, 0.20037028, 0.17661372, 0.21018692]),\n",
       " Timestamp('2020-07-28 00:00:00'): array([0.17491458, 0.24743315, 0.21318192, 0.10508628, 0.25938406]),\n",
       " Timestamp('2020-08-04 00:00:00'): array([0.23956909, 0.20717162, 0.17579602, 0.1394325 , 0.23803078]),\n",
       " Timestamp('2020-08-11 00:00:00'): array([0.23384711, 0.15350655, 0.12867867, 0.24618261, 0.23778505]),\n",
       " Timestamp('2020-08-18 00:00:00'): array([0.23766432, 0.16021227, 0.08083691, 0.3328081 , 0.18847839]),\n",
       " Timestamp('2020-08-25 00:00:00'): array([0.21984393, 0.16487875, 0.0869405 , 0.32065633, 0.20768048]),\n",
       " Timestamp('2020-09-01 00:00:00'): array([0.26813639, 0.16879744, 0.07740531, 0.30638744, 0.17927341]),\n",
       " Timestamp('2020-09-08 00:00:00'): array([0.34441782, 0.19865579, 0.07090234, 0.1598478 , 0.22617624]),\n",
       " Timestamp('2020-09-15 00:00:00'): array([0.28709406, 0.19053557, 0.18502517, 0.18892641, 0.14841879]),\n",
       " Timestamp('2020-09-22 00:00:00'): array([0.28193272, 0.17001229, 0.17767143, 0.16503376, 0.20534979]),\n",
       " Timestamp('2020-09-29 00:00:00'): array([0.31196087, 0.17798066, 0.16301456, 0.15928043, 0.18776348]),\n",
       " Timestamp('2020-10-08 00:00:00'): array([0.31186918, 0.17113837, 0.13508463, 0.16304739, 0.21886043]),\n",
       " Timestamp('2020-10-16 00:00:00'): array([0.29329641, 0.17437351, 0.12880653, 0.17600638, 0.22751717]),\n",
       " Timestamp('2020-10-23 00:00:00'): array([0.29931765, 0.16279346, 0.13701899, 0.18604314, 0.21482675]),\n",
       " Timestamp('2020-10-30 00:00:00'): array([0.31664799, 0.16551847, 0.12871719, 0.17473424, 0.21438212]),\n",
       " Timestamp('2020-11-06 00:00:00'): array([0.30452807, 0.16112143, 0.12953167, 0.22158529, 0.18323354]),\n",
       " Timestamp('2020-11-13 00:00:00'): array([0.29721931, 0.17712995, 0.18787465, 0.21026808, 0.12750801]),\n",
       " Timestamp('2020-11-20 00:00:00'): array([0.27695753, 0.17964937, 0.13923698, 0.19848662, 0.2056695 ]),\n",
       " Timestamp('2020-11-27 00:00:00'): array([0.32566435, 0.17989597, 0.1268451 , 0.16750804, 0.20008653]),\n",
       " Timestamp('2020-12-04 00:00:00'): array([0.30609628, 0.16794215, 0.1409532 , 0.17390393, 0.21110444]),\n",
       " Timestamp('2020-12-11 00:00:00'): array([0.31972433, 0.1859793 , 0.11194227, 0.21244418, 0.16990992]),\n",
       " Timestamp('2020-12-18 00:00:00'): array([0.29947569, 0.16088603, 0.1269631 , 0.22901022, 0.18366496]),\n",
       " Timestamp('2020-12-25 00:00:00'): array([0.29176355, 0.15851595, 0.13782265, 0.22163233, 0.19026553])}"
      ]
     },
     "execution_count": 18,
     "metadata": {},
     "output_type": "execute_result"
    }
   ],
   "source": [
    "lstm_weight_port"
   ]
  },
  {
   "cell_type": "code",
   "execution_count": 19,
   "metadata": {
    "id": "1VoXwIRkn1h7"
   },
   "outputs": [
    {
     "data": {
      "text/html": [
       "<div>\n",
       "<style scoped>\n",
       "    .dataframe tbody tr th:only-of-type {\n",
       "        vertical-align: middle;\n",
       "    }\n",
       "\n",
       "    .dataframe tbody tr th {\n",
       "        vertical-align: top;\n",
       "    }\n",
       "\n",
       "    .dataframe thead th {\n",
       "        text-align: right;\n",
       "    }\n",
       "</style>\n",
       "<table border=\"1\" class=\"dataframe\">\n",
       "  <thead>\n",
       "    <tr style=\"text-align: right;\">\n",
       "      <th></th>\n",
       "      <th>2330</th>\n",
       "      <th>2885</th>\n",
       "      <th>2603</th>\n",
       "      <th>2303</th>\n",
       "      <th>2881</th>\n",
       "    </tr>\n",
       "  </thead>\n",
       "  <tbody>\n",
       "    <tr>\n",
       "      <th>2020-01-02</th>\n",
       "      <td>[0.011188657529092975]</td>\n",
       "      <td>[0.0030486260805005]</td>\n",
       "      <td>[-0.0002073995240814684]</td>\n",
       "      <td>[0.0032993508087882898]</td>\n",
       "      <td>[0.004726516989061249]</td>\n",
       "    </tr>\n",
       "    <tr>\n",
       "      <th>2020-01-09</th>\n",
       "      <td>[0.007494690347238465]</td>\n",
       "      <td>[0.018937004940899067]</td>\n",
       "      <td>[-0.011026430231605013]</td>\n",
       "      <td>[0.018316949442610503]</td>\n",
       "      <td>[0.014146393768861164]</td>\n",
       "    </tr>\n",
       "    <tr>\n",
       "      <th>2020-01-16</th>\n",
       "      <td>[-0.016567381133918698]</td>\n",
       "      <td>[-0.012469523697274072]</td>\n",
       "      <td>[-0.039687462521730055]</td>\n",
       "      <td>[-0.0005979817151013544]</td>\n",
       "      <td>[-0.008183925655396515]</td>\n",
       "    </tr>\n",
       "    <tr>\n",
       "      <th>2020-02-03</th>\n",
       "      <td>[0.048006479520664155]</td>\n",
       "      <td>[0.02336127985559826]</td>\n",
       "      <td>[0.05469960316705439]</td>\n",
       "      <td>[0.06869213157641357]</td>\n",
       "      <td>[0.026735478605027688]</td>\n",
       "    </tr>\n",
       "    <tr>\n",
       "      <th>2020-02-10</th>\n",
       "      <td>[0.009074477016239419]</td>\n",
       "      <td>[-0.00970038287867312]</td>\n",
       "      <td>[0.020873975104221256]</td>\n",
       "      <td>[-0.04088506057442002]</td>\n",
       "      <td>[0.001277082738280691]</td>\n",
       "    </tr>\n",
       "    <tr>\n",
       "      <th>2020-02-17</th>\n",
       "      <td>[-0.004496776203855543]</td>\n",
       "      <td>[0.00264841921402692]</td>\n",
       "      <td>[0.015776819683228378]</td>\n",
       "      <td>[0.012275217562757276]</td>\n",
       "      <td>[-0.007069036548252387]</td>\n",
       "    </tr>\n",
       "    <tr>\n",
       "      <th>2020-02-24</th>\n",
       "      <td>[0.02702073723048083]</td>\n",
       "      <td>[-0.003035509718033889]</td>\n",
       "      <td>[0.020052742758798592]</td>\n",
       "      <td>[0.041265645590284554]</td>\n",
       "      <td>[0.005242920008268318]</td>\n",
       "    </tr>\n",
       "    <tr>\n",
       "      <th>2020-03-03</th>\n",
       "      <td>[0.05387580717915106]</td>\n",
       "      <td>[0.05065419333349602]</td>\n",
       "      <td>[0.022723947408503115]</td>\n",
       "      <td>[0.062233620913652116]</td>\n",
       "      <td>[0.022718450705307418]</td>\n",
       "    </tr>\n",
       "    <tr>\n",
       "      <th>2020-03-10</th>\n",
       "      <td>[0.04817188801860746]</td>\n",
       "      <td>[0.053052503264208496]</td>\n",
       "      <td>[0.018857796809027327]</td>\n",
       "      <td>[0.0612690656069277]</td>\n",
       "      <td>[0.035836594641685954]</td>\n",
       "    </tr>\n",
       "    <tr>\n",
       "      <th>2020-03-17</th>\n",
       "      <td>[0.11516710001385407]</td>\n",
       "      <td>[0.1101587909653791]</td>\n",
       "      <td>[0.1027377963817824]</td>\n",
       "      <td>[0.08831737677366837]</td>\n",
       "      <td>[0.09868069641172326]</td>\n",
       "    </tr>\n",
       "    <tr>\n",
       "      <th>2020-03-24</th>\n",
       "      <td>[0.1193810468134381]</td>\n",
       "      <td>[0.12027586391488095]</td>\n",
       "      <td>[0.0669600198015679]</td>\n",
       "      <td>[0.02209037307339841]</td>\n",
       "      <td>[0.03838478719215333]</td>\n",
       "    </tr>\n",
       "    <tr>\n",
       "      <th>2020-03-31</th>\n",
       "      <td>[0.04243773095800365]</td>\n",
       "      <td>[-0.011311150104674459]</td>\n",
       "      <td>[0.028217993360685045]</td>\n",
       "      <td>[0.016207589700541314]</td>\n",
       "      <td>[-0.004814640431705028]</td>\n",
       "    </tr>\n",
       "    <tr>\n",
       "      <th>2020-04-09</th>\n",
       "      <td>[-0.023524927350113467]</td>\n",
       "      <td>[-0.016763790607823896]</td>\n",
       "      <td>[-0.006930712282607712]</td>\n",
       "      <td>[0.0005815501223601204]</td>\n",
       "      <td>[0.022463405999325264]</td>\n",
       "    </tr>\n",
       "    <tr>\n",
       "      <th>2020-04-16</th>\n",
       "      <td>[-0.017868634391324977]</td>\n",
       "      <td>[-0.07913360103068219]</td>\n",
       "      <td>[-0.017811591730198976]</td>\n",
       "      <td>[-0.02244598385892406]</td>\n",
       "      <td>[-0.0383203908423351]</td>\n",
       "    </tr>\n",
       "    <tr>\n",
       "      <th>2020-04-23</th>\n",
       "      <td>[-0.019096519119043046]</td>\n",
       "      <td>[0.020132679737449477]</td>\n",
       "      <td>[0.04584764862330855]</td>\n",
       "      <td>[-0.011236939999094872]</td>\n",
       "      <td>[0.014441555852210106]</td>\n",
       "    </tr>\n",
       "    <tr>\n",
       "      <th>2020-04-30</th>\n",
       "      <td>[-0.019695879144384667]</td>\n",
       "      <td>[-0.03020333087278351]</td>\n",
       "      <td>[-0.062285801885516676]</td>\n",
       "      <td>[0.026021356422426818]</td>\n",
       "      <td>[-0.0417158607826339]</td>\n",
       "    </tr>\n",
       "    <tr>\n",
       "      <th>2020-05-08</th>\n",
       "      <td>[-0.007952184068431118]</td>\n",
       "      <td>[0.0013459636374182646]</td>\n",
       "      <td>[-0.03280063119032033]</td>\n",
       "      <td>[0.0035877968665843922]</td>\n",
       "      <td>[-0.0038673844411400934]</td>\n",
       "    </tr>\n",
       "    <tr>\n",
       "      <th>2020-05-15</th>\n",
       "      <td>[0.007801315732297733]</td>\n",
       "      <td>[0.009416726957196397]</td>\n",
       "      <td>[-0.025421160292422387]</td>\n",
       "      <td>[0.018060638865428854]</td>\n",
       "      <td>[0.014060310412454658]</td>\n",
       "    </tr>\n",
       "    <tr>\n",
       "      <th>2020-05-22</th>\n",
       "      <td>[-0.011465786407400801]</td>\n",
       "      <td>[0.00357614075169286]</td>\n",
       "      <td>[-0.05619725599775105]</td>\n",
       "      <td>[0.012075868281945349]</td>\n",
       "      <td>[-0.026594488963086502]</td>\n",
       "    </tr>\n",
       "    <tr>\n",
       "      <th>2020-05-29</th>\n",
       "      <td>[0.00047570638872540224]</td>\n",
       "      <td>[-0.005353759461867474]</td>\n",
       "      <td>[-0.028719974128564717]</td>\n",
       "      <td>[-0.00011763356315210542]</td>\n",
       "      <td>[-0.0008652129548045415]</td>\n",
       "    </tr>\n",
       "    <tr>\n",
       "      <th>2020-06-05</th>\n",
       "      <td>[-0.035655629174980386]</td>\n",
       "      <td>[-0.046400935805916206]</td>\n",
       "      <td>[-0.05147177568354155]</td>\n",
       "      <td>[-0.033204160110711964]</td>\n",
       "      <td>[-0.023203485939289267]</td>\n",
       "    </tr>\n",
       "    <tr>\n",
       "      <th>2020-06-12</th>\n",
       "      <td>[-0.04611677039806511]</td>\n",
       "      <td>[-0.03164584409553528]</td>\n",
       "      <td>[-0.005321807963618873]</td>\n",
       "      <td>[0.03599425578370591]</td>\n",
       "      <td>[0.004646831216477636]</td>\n",
       "    </tr>\n",
       "    <tr>\n",
       "      <th>2020-06-19</th>\n",
       "      <td>[-0.01753366898546382]</td>\n",
       "      <td>[-0.023800665125419986]</td>\n",
       "      <td>[-0.017729336515763108]</td>\n",
       "      <td>[0.028628354279557622]</td>\n",
       "      <td>[0.0036501947949868253]</td>\n",
       "    </tr>\n",
       "    <tr>\n",
       "      <th>2020-06-30</th>\n",
       "      <td>[-0.006068562853114643]</td>\n",
       "      <td>[-0.0007086012489436173]</td>\n",
       "      <td>[-0.00037293401048663907]</td>\n",
       "      <td>[-0.003878621131673351]</td>\n",
       "      <td>[0.001355607339738324]</td>\n",
       "    </tr>\n",
       "    <tr>\n",
       "      <th>2020-07-07</th>\n",
       "      <td>[-0.055104679580374266]</td>\n",
       "      <td>[-0.02817361774770805]</td>\n",
       "      <td>[-0.020419871549652715]</td>\n",
       "      <td>[-0.03985341900897407]</td>\n",
       "      <td>[-0.020299306151701453]</td>\n",
       "    </tr>\n",
       "    <tr>\n",
       "      <th>2020-07-14</th>\n",
       "      <td>[-0.06200443070055699]</td>\n",
       "      <td>[-0.02608381680335331]</td>\n",
       "      <td>[0.022798606193155702]</td>\n",
       "      <td>[-0.03602566309993374]</td>\n",
       "      <td>[0.0007662830527457373]</td>\n",
       "    </tr>\n",
       "    <tr>\n",
       "      <th>2020-07-21</th>\n",
       "      <td>[-0.043922719346515426]</td>\n",
       "      <td>[-0.0026526335945156513]</td>\n",
       "      <td>[0.009258003468594539]</td>\n",
       "      <td>[-0.013489311109604659]</td>\n",
       "      <td>[0.0063817909083130975]</td>\n",
       "    </tr>\n",
       "    <tr>\n",
       "      <th>2020-07-28</th>\n",
       "      <td>[-0.12578146772896925]</td>\n",
       "      <td>[0.017201165352967347]</td>\n",
       "      <td>[0.0032790723070156356]</td>\n",
       "      <td>[-0.1582357959385598]</td>\n",
       "      <td>[0.013130232616918239]</td>\n",
       "    </tr>\n",
       "    <tr>\n",
       "      <th>2020-08-04</th>\n",
       "      <td>[-0.05507440511126838]</td>\n",
       "      <td>[0.011834815790857232]</td>\n",
       "      <td>[-0.01210303512361713]</td>\n",
       "      <td>[-0.0735544591735021]</td>\n",
       "      <td>[0.016333624654014934]</td>\n",
       "    </tr>\n",
       "    <tr>\n",
       "      <th>2020-08-11</th>\n",
       "      <td>[-0.0803924465300834]</td>\n",
       "      <td>[-0.04116053661216888]</td>\n",
       "      <td>[-0.09211072132019532]</td>\n",
       "      <td>[0.04207679417965063]</td>\n",
       "      <td>[-0.0023560074125549527]</td>\n",
       "    </tr>\n",
       "    <tr>\n",
       "      <th>2020-08-18</th>\n",
       "      <td>[-0.05527529703612085]</td>\n",
       "      <td>[-0.02707248816453739]</td>\n",
       "      <td>[-0.17370632445732095]</td>\n",
       "      <td>[0.14561919797854972]</td>\n",
       "      <td>[-0.012468625043742815]</td>\n",
       "    </tr>\n",
       "    <tr>\n",
       "      <th>2020-08-25</th>\n",
       "      <td>[-0.03583515729828454]</td>\n",
       "      <td>[0.0021890786006522173]</td>\n",
       "      <td>[-0.12325279327112254]</td>\n",
       "      <td>[0.16847083270582588]</td>\n",
       "      <td>[0.014875014664572984]</td>\n",
       "    </tr>\n",
       "    <tr>\n",
       "      <th>2020-09-01</th>\n",
       "      <td>[-0.006075998034231453]</td>\n",
       "      <td>[0.0012838163233497757]</td>\n",
       "      <td>[-0.1602951347744282]</td>\n",
       "      <td>[0.1614682743674282]</td>\n",
       "      <td>[0.0008730596664838606]</td>\n",
       "    </tr>\n",
       "    <tr>\n",
       "      <th>2020-09-08</th>\n",
       "      <td>[0.004442693460462295]</td>\n",
       "      <td>[0.0028855964780536867]</td>\n",
       "      <td>[-0.21359113710533958]</td>\n",
       "      <td>[-0.03541997984310625]</td>\n",
       "      <td>[0.005707274030763248]</td>\n",
       "    </tr>\n",
       "    <tr>\n",
       "      <th>2020-09-15</th>\n",
       "      <td>[-0.02609570904723183]</td>\n",
       "      <td>[0.0016809202119840094]</td>\n",
       "      <td>[-0.006026851214996324]</td>\n",
       "      <td>[0.0012548542622537312]</td>\n",
       "      <td>[-0.018916976851401562]</td>\n",
       "    </tr>\n",
       "    <tr>\n",
       "      <th>2020-09-22</th>\n",
       "      <td>[-0.0030083119033769553]</td>\n",
       "      <td>[0.01236749056067209]</td>\n",
       "      <td>[0.015306025510047987]</td>\n",
       "      <td>[-0.009233659737961053]</td>\n",
       "      <td>[0.023598493458093988]</td>\n",
       "    </tr>\n",
       "    <tr>\n",
       "      <th>2020-09-29</th>\n",
       "      <td>[0.011856020455472214]</td>\n",
       "      <td>[0.014198173782095622]</td>\n",
       "      <td>[-0.008745687826417025]</td>\n",
       "      <td>[-0.021634462662996727]</td>\n",
       "      <td>[0.014188171935851866]</td>\n",
       "    </tr>\n",
       "    <tr>\n",
       "      <th>2020-10-08</th>\n",
       "      <td>[-0.012940333082032835]</td>\n",
       "      <td>[-0.010190042309053403]</td>\n",
       "      <td>[-0.07762004614001491]</td>\n",
       "      <td>[-0.042367127073345]</td>\n",
       "      <td>[0.00886743632790458]</td>\n",
       "    </tr>\n",
       "    <tr>\n",
       "      <th>2020-10-16</th>\n",
       "      <td>[-0.013446754003245737]</td>\n",
       "      <td>[-0.001160765251397302]</td>\n",
       "      <td>[-0.07750423586344762]</td>\n",
       "      <td>[-0.009271171810005951]</td>\n",
       "      <td>[0.016391138980894643]</td>\n",
       "    </tr>\n",
       "    <tr>\n",
       "      <th>2020-10-23</th>\n",
       "      <td>[-0.007020379845369519]</td>\n",
       "      <td>[-0.006749958968305482]</td>\n",
       "      <td>[-0.05811572033696687]</td>\n",
       "      <td>[0.010408776854873137]</td>\n",
       "      <td>[0.012674400146114371]</td>\n",
       "    </tr>\n",
       "    <tr>\n",
       "      <th>2020-10-30</th>\n",
       "      <td>[0.027227975322404323]</td>\n",
       "      <td>[0.015430872499406868]</td>\n",
       "      <td>[-0.041474272165441535]</td>\n",
       "      <td>[0.0240564058086704]</td>\n",
       "      <td>[0.027219667974746647]</td>\n",
       "    </tr>\n",
       "    <tr>\n",
       "      <th>2020-11-06</th>\n",
       "      <td>[-0.013860504405187317]</td>\n",
       "      <td>[-0.020406727516132907]</td>\n",
       "      <td>[-0.09649290528172239]</td>\n",
       "      <td>[0.059441484289551476]</td>\n",
       "      <td>[-0.0072010315136285565]</td>\n",
       "    </tr>\n",
       "    <tr>\n",
       "      <th>2020-11-13</th>\n",
       "      <td>[-0.023106692409321835]</td>\n",
       "      <td>[-0.012982487420245221]</td>\n",
       "      <td>[-0.008438992984114338]</td>\n",
       "      <td>[0.03691436054737499]</td>\n",
       "      <td>[-0.03644812239270805]</td>\n",
       "    </tr>\n",
       "    <tr>\n",
       "      <th>2020-11-20</th>\n",
       "      <td>[-0.045718135149811386]</td>\n",
       "      <td>[-0.01319999626664032]</td>\n",
       "      <td>[-0.10222961152774147]</td>\n",
       "      <td>[0.0067640956497765255]</td>\n",
       "      <td>[-0.0009366199973397311]</td>\n",
       "    </tr>\n",
       "    <tr>\n",
       "      <th>2020-11-27</th>\n",
       "      <td>[-0.015928425028894688]</td>\n",
       "      <td>[-0.013322477518551753]</td>\n",
       "      <td>[-0.12978749785128837]</td>\n",
       "      <td>[-0.057243346298612385]</td>\n",
       "      <td>[-0.0037648393580682294]</td>\n",
       "    </tr>\n",
       "    <tr>\n",
       "      <th>2020-12-04</th>\n",
       "      <td>[-0.022395943659291727]</td>\n",
       "      <td>[-0.01705393577874978]</td>\n",
       "      <td>[-0.09187649628084456]</td>\n",
       "      <td>[-0.03696398104495261]</td>\n",
       "      <td>[0.004352502424648638]</td>\n",
       "    </tr>\n",
       "    <tr>\n",
       "      <th>2020-12-11</th>\n",
       "      <td>[-0.019268679397979327]</td>\n",
       "      <td>[-0.01428217155733726]</td>\n",
       "      <td>[-0.18011727144646794]</td>\n",
       "      <td>[0.03716347236249877]</td>\n",
       "      <td>[-0.02063060636075552]</td>\n",
       "    </tr>\n",
       "    <tr>\n",
       "      <th>2020-12-18</th>\n",
       "      <td>[0.0006045218489088119]</td>\n",
       "      <td>[-0.007939623308356956]</td>\n",
       "      <td>[-0.11004388779171594]</td>\n",
       "      <td>[0.10799108250432256]</td>\n",
       "      <td>[0.004305224384275701]</td>\n",
       "    </tr>\n",
       "    <tr>\n",
       "      <th>2020-12-25</th>\n",
       "      <td>[0.0032660254260307156]</td>\n",
       "      <td>[-0.0027101727690534215]</td>\n",
       "      <td>[-0.07998183844285628]</td>\n",
       "      <td>[0.10914059033219246]</td>\n",
       "      <td>[0.01362722494505012]</td>\n",
       "    </tr>\n",
       "  </tbody>\n",
       "</table>\n",
       "</div>"
      ],
      "text/plain": [
       "                                2330                      2885  \\\n",
       "2020-01-02    [0.011188657529092975]      [0.0030486260805005]   \n",
       "2020-01-09    [0.007494690347238465]    [0.018937004940899067]   \n",
       "2020-01-16   [-0.016567381133918698]   [-0.012469523697274072]   \n",
       "2020-02-03    [0.048006479520664155]     [0.02336127985559826]   \n",
       "2020-02-10    [0.009074477016239419]    [-0.00970038287867312]   \n",
       "2020-02-17   [-0.004496776203855543]     [0.00264841921402692]   \n",
       "2020-02-24     [0.02702073723048083]   [-0.003035509718033889]   \n",
       "2020-03-03     [0.05387580717915106]     [0.05065419333349602]   \n",
       "2020-03-10     [0.04817188801860746]    [0.053052503264208496]   \n",
       "2020-03-17     [0.11516710001385407]      [0.1101587909653791]   \n",
       "2020-03-24      [0.1193810468134381]     [0.12027586391488095]   \n",
       "2020-03-31     [0.04243773095800365]   [-0.011311150104674459]   \n",
       "2020-04-09   [-0.023524927350113467]   [-0.016763790607823896]   \n",
       "2020-04-16   [-0.017868634391324977]    [-0.07913360103068219]   \n",
       "2020-04-23   [-0.019096519119043046]    [0.020132679737449477]   \n",
       "2020-04-30   [-0.019695879144384667]    [-0.03020333087278351]   \n",
       "2020-05-08   [-0.007952184068431118]   [0.0013459636374182646]   \n",
       "2020-05-15    [0.007801315732297733]    [0.009416726957196397]   \n",
       "2020-05-22   [-0.011465786407400801]     [0.00357614075169286]   \n",
       "2020-05-29  [0.00047570638872540224]   [-0.005353759461867474]   \n",
       "2020-06-05   [-0.035655629174980386]   [-0.046400935805916206]   \n",
       "2020-06-12    [-0.04611677039806511]    [-0.03164584409553528]   \n",
       "2020-06-19    [-0.01753366898546382]   [-0.023800665125419986]   \n",
       "2020-06-30   [-0.006068562853114643]  [-0.0007086012489436173]   \n",
       "2020-07-07   [-0.055104679580374266]    [-0.02817361774770805]   \n",
       "2020-07-14    [-0.06200443070055699]    [-0.02608381680335331]   \n",
       "2020-07-21   [-0.043922719346515426]  [-0.0026526335945156513]   \n",
       "2020-07-28    [-0.12578146772896925]    [0.017201165352967347]   \n",
       "2020-08-04    [-0.05507440511126838]    [0.011834815790857232]   \n",
       "2020-08-11     [-0.0803924465300834]    [-0.04116053661216888]   \n",
       "2020-08-18    [-0.05527529703612085]    [-0.02707248816453739]   \n",
       "2020-08-25    [-0.03583515729828454]   [0.0021890786006522173]   \n",
       "2020-09-01   [-0.006075998034231453]   [0.0012838163233497757]   \n",
       "2020-09-08    [0.004442693460462295]   [0.0028855964780536867]   \n",
       "2020-09-15    [-0.02609570904723183]   [0.0016809202119840094]   \n",
       "2020-09-22  [-0.0030083119033769553]     [0.01236749056067209]   \n",
       "2020-09-29    [0.011856020455472214]    [0.014198173782095622]   \n",
       "2020-10-08   [-0.012940333082032835]   [-0.010190042309053403]   \n",
       "2020-10-16   [-0.013446754003245737]   [-0.001160765251397302]   \n",
       "2020-10-23   [-0.007020379845369519]   [-0.006749958968305482]   \n",
       "2020-10-30    [0.027227975322404323]    [0.015430872499406868]   \n",
       "2020-11-06   [-0.013860504405187317]   [-0.020406727516132907]   \n",
       "2020-11-13   [-0.023106692409321835]   [-0.012982487420245221]   \n",
       "2020-11-20   [-0.045718135149811386]    [-0.01319999626664032]   \n",
       "2020-11-27   [-0.015928425028894688]   [-0.013322477518551753]   \n",
       "2020-12-04   [-0.022395943659291727]    [-0.01705393577874978]   \n",
       "2020-12-11   [-0.019268679397979327]    [-0.01428217155733726]   \n",
       "2020-12-18   [0.0006045218489088119]   [-0.007939623308356956]   \n",
       "2020-12-25   [0.0032660254260307156]  [-0.0027101727690534215]   \n",
       "\n",
       "                                 2603                       2303  \\\n",
       "2020-01-02   [-0.0002073995240814684]    [0.0032993508087882898]   \n",
       "2020-01-09    [-0.011026430231605013]     [0.018316949442610503]   \n",
       "2020-01-16    [-0.039687462521730055]   [-0.0005979817151013544]   \n",
       "2020-02-03      [0.05469960316705439]      [0.06869213157641357]   \n",
       "2020-02-10     [0.020873975104221256]     [-0.04088506057442002]   \n",
       "2020-02-17     [0.015776819683228378]     [0.012275217562757276]   \n",
       "2020-02-24     [0.020052742758798592]     [0.041265645590284554]   \n",
       "2020-03-03     [0.022723947408503115]     [0.062233620913652116]   \n",
       "2020-03-10     [0.018857796809027327]       [0.0612690656069277]   \n",
       "2020-03-17       [0.1027377963817824]      [0.08831737677366837]   \n",
       "2020-03-24       [0.0669600198015679]      [0.02209037307339841]   \n",
       "2020-03-31     [0.028217993360685045]     [0.016207589700541314]   \n",
       "2020-04-09    [-0.006930712282607712]    [0.0005815501223601204]   \n",
       "2020-04-16    [-0.017811591730198976]     [-0.02244598385892406]   \n",
       "2020-04-23      [0.04584764862330855]    [-0.011236939999094872]   \n",
       "2020-04-30    [-0.062285801885516676]     [0.026021356422426818]   \n",
       "2020-05-08     [-0.03280063119032033]    [0.0035877968665843922]   \n",
       "2020-05-15    [-0.025421160292422387]     [0.018060638865428854]   \n",
       "2020-05-22     [-0.05619725599775105]     [0.012075868281945349]   \n",
       "2020-05-29    [-0.028719974128564717]  [-0.00011763356315210542]   \n",
       "2020-06-05     [-0.05147177568354155]    [-0.033204160110711964]   \n",
       "2020-06-12    [-0.005321807963618873]      [0.03599425578370591]   \n",
       "2020-06-19    [-0.017729336515763108]     [0.028628354279557622]   \n",
       "2020-06-30  [-0.00037293401048663907]    [-0.003878621131673351]   \n",
       "2020-07-07    [-0.020419871549652715]     [-0.03985341900897407]   \n",
       "2020-07-14     [0.022798606193155702]     [-0.03602566309993374]   \n",
       "2020-07-21     [0.009258003468594539]    [-0.013489311109604659]   \n",
       "2020-07-28    [0.0032790723070156356]      [-0.1582357959385598]   \n",
       "2020-08-04     [-0.01210303512361713]      [-0.0735544591735021]   \n",
       "2020-08-11     [-0.09211072132019532]      [0.04207679417965063]   \n",
       "2020-08-18     [-0.17370632445732095]      [0.14561919797854972]   \n",
       "2020-08-25     [-0.12325279327112254]      [0.16847083270582588]   \n",
       "2020-09-01      [-0.1602951347744282]       [0.1614682743674282]   \n",
       "2020-09-08     [-0.21359113710533958]     [-0.03541997984310625]   \n",
       "2020-09-15    [-0.006026851214996324]    [0.0012548542622537312]   \n",
       "2020-09-22     [0.015306025510047987]    [-0.009233659737961053]   \n",
       "2020-09-29    [-0.008745687826417025]    [-0.021634462662996727]   \n",
       "2020-10-08     [-0.07762004614001491]       [-0.042367127073345]   \n",
       "2020-10-16     [-0.07750423586344762]    [-0.009271171810005951]   \n",
       "2020-10-23     [-0.05811572033696687]     [0.010408776854873137]   \n",
       "2020-10-30    [-0.041474272165441535]       [0.0240564058086704]   \n",
       "2020-11-06     [-0.09649290528172239]     [0.059441484289551476]   \n",
       "2020-11-13    [-0.008438992984114338]      [0.03691436054737499]   \n",
       "2020-11-20     [-0.10222961152774147]    [0.0067640956497765255]   \n",
       "2020-11-27     [-0.12978749785128837]    [-0.057243346298612385]   \n",
       "2020-12-04     [-0.09187649628084456]     [-0.03696398104495261]   \n",
       "2020-12-11     [-0.18011727144646794]      [0.03716347236249877]   \n",
       "2020-12-18     [-0.11004388779171594]      [0.10799108250432256]   \n",
       "2020-12-25     [-0.07998183844285628]      [0.10914059033219246]   \n",
       "\n",
       "                                2881  \n",
       "2020-01-02    [0.004726516989061249]  \n",
       "2020-01-09    [0.014146393768861164]  \n",
       "2020-01-16   [-0.008183925655396515]  \n",
       "2020-02-03    [0.026735478605027688]  \n",
       "2020-02-10    [0.001277082738280691]  \n",
       "2020-02-17   [-0.007069036548252387]  \n",
       "2020-02-24    [0.005242920008268318]  \n",
       "2020-03-03    [0.022718450705307418]  \n",
       "2020-03-10    [0.035836594641685954]  \n",
       "2020-03-17     [0.09868069641172326]  \n",
       "2020-03-24     [0.03838478719215333]  \n",
       "2020-03-31   [-0.004814640431705028]  \n",
       "2020-04-09    [0.022463405999325264]  \n",
       "2020-04-16     [-0.0383203908423351]  \n",
       "2020-04-23    [0.014441555852210106]  \n",
       "2020-04-30     [-0.0417158607826339]  \n",
       "2020-05-08  [-0.0038673844411400934]  \n",
       "2020-05-15    [0.014060310412454658]  \n",
       "2020-05-22   [-0.026594488963086502]  \n",
       "2020-05-29  [-0.0008652129548045415]  \n",
       "2020-06-05   [-0.023203485939289267]  \n",
       "2020-06-12    [0.004646831216477636]  \n",
       "2020-06-19   [0.0036501947949868253]  \n",
       "2020-06-30    [0.001355607339738324]  \n",
       "2020-07-07   [-0.020299306151701453]  \n",
       "2020-07-14   [0.0007662830527457373]  \n",
       "2020-07-21   [0.0063817909083130975]  \n",
       "2020-07-28    [0.013130232616918239]  \n",
       "2020-08-04    [0.016333624654014934]  \n",
       "2020-08-11  [-0.0023560074125549527]  \n",
       "2020-08-18   [-0.012468625043742815]  \n",
       "2020-08-25    [0.014875014664572984]  \n",
       "2020-09-01   [0.0008730596664838606]  \n",
       "2020-09-08    [0.005707274030763248]  \n",
       "2020-09-15   [-0.018916976851401562]  \n",
       "2020-09-22    [0.023598493458093988]  \n",
       "2020-09-29    [0.014188171935851866]  \n",
       "2020-10-08     [0.00886743632790458]  \n",
       "2020-10-16    [0.016391138980894643]  \n",
       "2020-10-23    [0.012674400146114371]  \n",
       "2020-10-30    [0.027219667974746647]  \n",
       "2020-11-06  [-0.0072010315136285565]  \n",
       "2020-11-13    [-0.03644812239270805]  \n",
       "2020-11-20  [-0.0009366199973397311]  \n",
       "2020-11-27  [-0.0037648393580682294]  \n",
       "2020-12-04    [0.004352502424648638]  \n",
       "2020-12-11    [-0.02063060636075552]  \n",
       "2020-12-18    [0.004305224384275701]  \n",
       "2020-12-25     [0.01362722494505012]  "
      ]
     },
     "execution_count": 19,
     "metadata": {},
     "output_type": "execute_result"
    }
   ],
   "source": [
    "pd.DataFrame.from_dict(Q_list,orient='index',columns = stock_list)"
   ]
  },
  {
   "cell_type": "code",
   "execution_count": 20,
   "metadata": {
    "id": "HD2T_CBZBpWj"
   },
   "outputs": [
    {
     "data": {
      "text/plain": [
       "dict"
      ]
     },
     "execution_count": 20,
     "metadata": {},
     "output_type": "execute_result"
    }
   ],
   "source": [
    "type(Q_list)"
   ]
  },
  {
   "cell_type": "code",
   "execution_count": 21,
   "metadata": {
    "colab": {
     "base_uri": "https://localhost:8080/",
     "height": 621
    },
    "id": "4FNgYLsSl8lS",
    "outputId": "f2a371a6-d084-4c0f-fa49-36ac8a7eface"
   },
   "outputs": [
    {
     "data": {
      "image/png": "[encoded data removed]",
      "text/plain": [
       "<Figure size 1080x720 with 1 Axes>"
      ]
     },
     "metadata": {
      "needs_background": "light"
     },
     "output_type": "display_data"
    }
   ],
   "source": [
    "plt.figure(figsize = (15,10))\n",
    "plt.plot(df_backtest.index,lstm_ret_port[1:],label = 'LSTM-based View')\n",
    "plt.plot(df_backtest.index,ret_port[1:],label = 'Constant_View')\n",
    "plt.plot(df_backtest.index,mvo_ret_port[1:],label = 'MVO')\n",
    "# plt.plot(df_backtest.index,even_ret[1:],label = 'Even Weight')\n",
    "# plt.plot(df_backtest.index,cw_ret[1:],label = 'Constant Weight')\n",
    "plt.title('Look Back 100 Days',fontsize = 20)\n",
    "plt.xticks(fontsize= 20)\n",
    "plt.yticks(fontsize= 20)\n",
    "plt.ylabel('%',fontsize = 20)\n",
    "plt.legend(loc='upper left',fontsize = 20)\n",
    "plt.grid(True)"
   ]
  }
 ],
 "metadata": {
  "colab": {
   "name": "Backtesting.ipynb",
   "provenance": [],
   "toc_visible": true
  },
  "kernelspec": {
   "display_name": "Python3.7.9",
   "language": "python",
   "name": "python3"
  },
  "language_info": {
   "codemirror_mode": {
    "name": "ipython",
    "version": 3
   },
   "file_extension": ".py",
   "mimetype": "text/x-python",
   "name": "python",
   "nbconvert_exporter": "python",
   "pygments_lexer": "ipython3",
   "version": "3.7.9"
  }
 },
 "nbformat": 4,
 "nbformat_minor": 1
}
